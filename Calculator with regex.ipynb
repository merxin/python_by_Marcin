{
 "cells": [
  {
   "cell_type": "code",
   "execution_count": 2,
   "id": "e31a091a",
   "metadata": {},
   "outputs": [
    {
     "name": "stdout",
     "output_type": "stream",
     "text": [
      "Please enter equation: number then symbol (+-*/) then number\n",
      " or exit if you want to exit \n",
      "\n",
      "fdfdf\n",
      "Wrong format\n",
      "Please enter equation: number then symbol (+-*/) then number\n",
      " or exit if you want to exit \n",
      "\n",
      "4-4\n",
      "0.0\n",
      "Please enter equation: number then symbol (+-*/) then number\n",
      " or exit if you want to exit \n",
      "\n",
      "5.665+3453534.656\n",
      "3453540.321\n",
      "Please enter equation: number then symbol (+-*/) then number\n",
      " or exit if you want to exit \n",
      "\n",
      "6/0\n",
      "No division by zero\n",
      "Please enter equation: number then symbol (+-*/) then number\n",
      " or exit if you want to exit \n",
      "\n",
      "7*7\n",
      "49.0\n",
      "Please enter equation: number then symbol (+-*/) then number\n",
      " or exit if you want to exit \n",
      "\n",
      "exit\n",
      "loop ended\n"
     ]
    }
   ],
   "source": [
    "import re\n",
    "y=\"+\"\n",
    "z=1\n",
    "equation_str=\"1+1\"\n",
    "pattern = r'[*+/-]'\n",
    "eq_regex = re.compile(r'^\\d+.?\\d*[*+/-]\\d+.?\\d*$')\n",
    "eq_regex2 = re.compile(r'\\d+.?\\d*|[+*/-]')\n",
    "def multiplyA(x, z):\n",
    "    return x * z\n",
    "def divideA(x, z):\n",
    "    return x / z\n",
    "def addA(x, z):\n",
    "    return x + z\n",
    "def minA(x, z):\n",
    "    return x - z\n",
    "while equation_str.lower()!=\"exit\":\n",
    "    try:\n",
    "        equation_str = input(\"Please enter equation: number then symbol (+-*/) then number\\n or exit if you want to exit \\n\\n\")\n",
    "        if bool(eq_regex.search(equation_str)) == True:\n",
    "            b = re.findall(pattern, equation_str)\n",
    "            l = re.split(pattern, equation_str)\n",
    "            x = float(l[0])\n",
    "            z = float(l[1])\n",
    "            y = b[0]\n",
    "            if y == \"*\":\n",
    "                a = multiplyA(x, z)\n",
    "                print(a)\n",
    "            elif y == \"/\":\n",
    "                a = divideA(x, z)\n",
    "                print(a)\n",
    "            elif y == \"+\":\n",
    "                a = addA(x, z)\n",
    "                print(a)\n",
    "            elif y == \"-\":\n",
    "                a = minA(x, z)\n",
    "                print(a)\n",
    "        else:\n",
    "            if equation_str.lower()!=\"exit\":\n",
    "                print(\"Wrong format\")\n",
    "    except:\n",
    "        if y == \"/\" and z == 0:\n",
    "            print(\"No division by zero\")\n",
    "\n",
    "print('loop ended')"
   ]
  },
  {
   "cell_type": "code",
   "execution_count": null,
   "id": "082bdb9b",
   "metadata": {},
   "outputs": [],
   "source": [
    "\n",
    "\n"
   ]
  },
  {
   "cell_type": "code",
   "execution_count": null,
   "id": "69cb1ff6",
   "metadata": {},
   "outputs": [],
   "source": []
  }
 ],
 "metadata": {
  "kernelspec": {
   "display_name": "Python 3 (ipykernel)",
   "language": "python",
   "name": "python3"
  },
  "language_info": {
   "codemirror_mode": {
    "name": "ipython",
    "version": 3
   },
   "file_extension": ".py",
   "mimetype": "text/x-python",
   "name": "python",
   "nbconvert_exporter": "python",
   "pygments_lexer": "ipython3",
   "version": "3.9.7"
  }
 },
 "nbformat": 4,
 "nbformat_minor": 5
}
